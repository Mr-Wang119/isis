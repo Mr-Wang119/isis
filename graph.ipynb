{
 "cells": [
  {
   "cell_type": "code",
   "execution_count": 6,
   "id": "469bd94d-95b1-4f81-a854-3ae6896cef8e",
   "metadata": {},
   "outputs": [],
   "source": [
    "import matplotlib.pyplot as plt\n",
    "import numpy as np\n",
    "import pandas as pd"
   ]
  },
  {
   "cell_type": "code",
   "execution_count": 24,
   "id": "ad26c846-64bf-4fd5-959e-1bc90da06621",
   "metadata": {},
   "outputs": [],
   "source": [
    "node_dict = dict()\n",
    "sub_dir = '5hz8b/'\n",
    "node1 = np.loadtxt('logs/'+sub_dir+'node1.log',\n",
    "                  delimiter=',',\n",
    "                  dtype=str)\n",
    "for it in node1:\n",
    "    if it[0] in node_dict.keys():\n",
    "        node_dict[it[0]] = max(node_dict[it[0]], int(it[1]))\n",
    "    else:\n",
    "        node_dict[it[0]] = int(it[1])\n",
    "\n",
    "node2 = np.loadtxt('logs/'+sub_dir+'node2.log',\n",
    "                  delimiter=',',\n",
    "                  dtype=str)\n",
    "\n",
    "for it in node2:\n",
    "    if it[0] in node_dict.keys():\n",
    "        node_dict[it[0]] = max(node_dict[it[0]], int(it[1]))\n",
    "    else:\n",
    "        node_dict[it[0]] = int(it[1])\n",
    "\n",
    "node3 = np.loadtxt('logs/'+sub_dir+'node3.log',\n",
    "                  delimiter=',',\n",
    "                  dtype=str)\n",
    "\n",
    "for it in node3:\n",
    "    if it[0] in node_dict.keys():\n",
    "        node_dict[it[0]] = max(node_dict[it[0]], int(it[1]))\n",
    "    else:\n",
    "        node_dict[it[0]] = int(it[1])\n",
    "\n",
    "node4 = np.loadtxt('logs/'+sub_dir+'node4.log',\n",
    "                  delimiter=',',\n",
    "                  dtype=str)\n",
    "\n",
    "for it in node4:\n",
    "    if it[0] in node_dict.keys():\n",
    "        node_dict[it[0]] = max(node_dict[it[0]], int(it[1]))\n",
    "    else:\n",
    "        node_dict[it[0]] = int(it[1])\n",
    "\n",
    "node5 = np.loadtxt('logs/'+sub_dir+'node5.log',\n",
    "                  delimiter=',',\n",
    "                  dtype=str)\n",
    "\n",
    "for it in node5:\n",
    "    if it[0] in node_dict.keys():\n",
    "        node_dict[it[0]] = max(node_dict[it[0]], int(it[1]))\n",
    "    else:\n",
    "        node_dict[it[0]] = int(it[1])\n",
    "\n",
    "node6 = np.loadtxt('logs/'+sub_dir+'node6.log',\n",
    "                  delimiter=',',\n",
    "                  dtype=str)\n",
    "\n",
    "for it in node6:\n",
    "    if it[0] in node_dict.keys():\n",
    "        node_dict[it[0]] = max(node_dict[it[0]], int(it[1]))\n",
    "    else:\n",
    "        node_dict[it[0]] = int(it[1])\n",
    "\n",
    "node7 = np.loadtxt('logs/'+sub_dir+'node7.log',\n",
    "                  delimiter=',',\n",
    "                  dtype=str)\n",
    "\n",
    "for it in node7:\n",
    "    if it[0] in node_dict.keys():\n",
    "        node_dict[it[0]] = max(node_dict[it[0]], int(it[1]))\n",
    "    else:\n",
    "        node_dict[it[0]] = int(it[1])\n",
    "\n",
    "node8 = np.loadtxt('logs/'+sub_dir+'node8.log',\n",
    "                  delimiter=',',\n",
    "                  dtype=str)\n",
    "\n",
    "for it in node8:\n",
    "    if it[0] in node_dict.keys():\n",
    "        node_dict[it[0]] = max(node_dict[it[0]], int(it[1]))\n",
    "    else:\n",
    "        node_dict[it[0]] = int(it[1])"
   ]
  },
  {
   "cell_type": "code",
   "execution_count": 25,
   "id": "12170aa0-11e8-4957-b0c9-bbf6c46d2704",
   "metadata": {},
   "outputs": [],
   "source": [
    "num = len(node_dict)\n",
    "min_time = min(node_dict.values())\n",
    "max_time = max(node_dict.values())\n",
    "x = [i for i in range(min_time, max_time+1)]"
   ]
  },
  {
   "cell_type": "code",
   "execution_count": 26,
   "id": "f9c2648f-0a7f-46c4-85ad-fefdebc67bb5",
   "metadata": {},
   "outputs": [],
   "source": [
    "y = [0.0] * len(x)\n",
    "for value in node_dict.values():\n",
    "    y[value-min_time] += 1\n",
    "for i in range(len(y)):\n",
    "    if i>0:\n",
    "        y[i] += y[i-1]\n",
    "for i in range(len(y)):\n",
    "    y[i] /= num"
   ]
  },
  {
   "cell_type": "code",
   "execution_count": 27,
   "id": "eca7faaa-a248-4f59-9578-7bd4d5a9f64b",
   "metadata": {},
   "outputs": [
    {
     "data": {
      "image/png": "[encoded data removed]",
      "text/plain": [
       "<Figure size 432x288 with 1 Axes>"
      ]
     },
     "metadata": {
      "needs_background": "light"
     },
     "output_type": "display_data"
    }
   ],
   "source": [
    "plt.plot(x,y)\n",
    "plt.title('transaction processing time, MP1')\n",
    "plt.xlabel('transaction processing time (μs)')\n",
    "plt.ylabel('cumulative distribution (%)')\n",
    "plt.show()"
   ]
  },
  {
   "cell_type": "code",
   "execution_count": null,
   "id": "9471b25f-b8c2-4250-b047-1e75934e230a",
   "metadata": {},
   "outputs": [],
   "source": []
  }
 ],
 "metadata": {
  "kernelspec": {
   "display_name": "Python 3",
   "language": "python",
   "name": "python3"
  },
  "language_info": {
   "codemirror_mode": {
    "name": "ipython",
    "version": 3
   },
   "file_extension": ".py",
   "mimetype": "text/x-python",
   "name": "python",
   "nbconvert_exporter": "python",
   "pygments_lexer": "ipython3",
   "version": "3.8.8"
  }
 },
 "nbformat": 4,
 "nbformat_minor": 5
}
